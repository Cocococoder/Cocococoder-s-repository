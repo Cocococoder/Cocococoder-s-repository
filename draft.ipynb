{
 "cells": [
  {
   "cell_type": "code",
   "execution_count": 1,
   "id": "ee04676c",
   "metadata": {
    "ExecuteTime": {
     "end_time": "2024-06-23T13:05:55.588575Z",
     "start_time": "2024-06-23T13:05:55.566798Z"
    }
   },
   "outputs": [],
   "source": [
    "input_file = \"/home/lqy/CRCNN_and_CRNN/NN_color_disk_cr/train_disk_noCr_noNoise_noPsf/label/shear.txt\"\n",
    "output_file = \"/home/lqy/CRCNN_and_CRNN/NN_color_disk_cr/train_disk_noCr_noNoise_noPsf/label/sorted_shear.txt\"\n",
    "\n",
    "# 读取文件内容\n",
    "with open(input_file, 'r') as file:\n",
    "    lines = file.readlines()\n",
    "\n",
    "# 删除每行的最后一列\n",
    "modified_lines = [line.rsplit(' ', 1)[0] for line in lines]\n",
    "\n",
    "# 添加新的一列\n",
    "modified_lines = [f\"{line.strip()} {index}\\n\" for index, line in enumerate(modified_lines)]\n",
    "\n",
    "# 保存修改后的内容到新文件\n",
    "with open(output_file, 'w') as file:\n",
    "    file.writelines(modified_lines)\n"
   ]
  },
  {
   "cell_type": "code",
   "execution_count": 2,
   "id": "e867b60e",
   "metadata": {
    "ExecuteTime": {
     "end_time": "2024-06-23T13:07:19.133501Z",
     "start_time": "2024-06-23T13:07:18.970365Z"
    }
   },
   "outputs": [
    {
     "name": "stdout",
     "output_type": "stream",
     "text": [
      "g波段文件名修改完成！\n",
      "r波段文件名修改完成！\n",
      "i波段文件名修改完成！\n"
     ]
    }
   ],
   "source": [
    "import os\n",
    "\n",
    "b = 'g'\n",
    "\n",
    "folder_path = f\"/home/lqy/CRCNN_and_CRNN/NN_color_disk_cr/train_disk_noCr_noNoise_noPsf/specimen/1/{b}/\"\n",
    "\n",
    "# 获取文件夹下所有文件的名称\n",
    "file_names = os.listdir(folder_path)\n",
    "\n",
    "# 遍历文件夹下的每个文件\n",
    "for file_name in file_names:\n",
    "    if file_name.endswith(\".txt\"):\n",
    "        # 解析文件名中的数字部分\n",
    "        parts = file_name.split('_')\n",
    "        number = int(parts[1].split('.')[0])\n",
    "        \n",
    "        # 对数字部分加上5000\n",
    "        new_number = number + 5000\n",
    "        \n",
    "        # 构建新的文件名\n",
    "        new_file_name = f\"case_{new_number}.txt\"\n",
    "        \n",
    "        # 重命名文件\n",
    "        os.rename(os.path.join(folder_path, file_name), os.path.join(folder_path, new_file_name))\n",
    "\n",
    "folder_path = f\"/home/lqy/CRCNN_and_CRNN/NN_color_disk_cr/train_disk_noCr_noNoise_noPsf/specimen/2/{b}/\"\n",
    "\n",
    "# 获取文件夹下所有文件的名称\n",
    "file_names = os.listdir(folder_path)\n",
    "\n",
    "# 遍历文件夹下的每个文件\n",
    "for file_name in file_names:\n",
    "    if file_name.endswith(\".txt\"):\n",
    "        # 解析文件名中的数字部分\n",
    "        parts = file_name.split('_')\n",
    "        number = int(parts[1].split('.')[0])\n",
    "        \n",
    "        # 对数字部分加上5000\n",
    "        new_number = number + 10000\n",
    "        \n",
    "        # 构建新的文件名\n",
    "        new_file_name = f\"case_{new_number}.txt\"\n",
    "        \n",
    "        # 重命名文件\n",
    "        os.rename(os.path.join(folder_path, file_name), os.path.join(folder_path, new_file_name))\n",
    "\n",
    "print(f\"{b}波段文件名修改完成！\")\n",
    "\n",
    "b = 'r'\n",
    "\n",
    "folder_path = f\"/home/lqy/CRCNN_and_CRNN/NN_color_disk_cr/train_disk_noCr_noNoise_noPsf/specimen/1/{b}/\"\n",
    "\n",
    "# 获取文件夹下所有文件的名称\n",
    "file_names = os.listdir(folder_path)\n",
    "\n",
    "# 遍历文件夹下的每个文件\n",
    "for file_name in file_names:\n",
    "    if file_name.endswith(\".txt\"):\n",
    "        # 解析文件名中的数字部分\n",
    "        parts = file_name.split('_')\n",
    "        number = int(parts[1].split('.')[0])\n",
    "        \n",
    "        # 对数字部分加上5000\n",
    "        new_number = number + 5000\n",
    "        \n",
    "        # 构建新的文件名\n",
    "        new_file_name = f\"case_{new_number}.txt\"\n",
    "        \n",
    "        # 重命名文件\n",
    "        os.rename(os.path.join(folder_path, file_name), os.path.join(folder_path, new_file_name))\n",
    "\n",
    "folder_path = f\"/home/lqy/CRCNN_and_CRNN/NN_color_disk_cr/train_disk_noCr_noNoise_noPsf/specimen/2/{b}/\"\n",
    "\n",
    "# 获取文件夹下所有文件的名称\n",
    "file_names = os.listdir(folder_path)\n",
    "\n",
    "# 遍历文件夹下的每个文件\n",
    "for file_name in file_names:\n",
    "    if file_name.endswith(\".txt\"):\n",
    "        # 解析文件名中的数字部分\n",
    "        parts = file_name.split('_')\n",
    "        number = int(parts[1].split('.')[0])\n",
    "        \n",
    "        # 对数字部分加上5000\n",
    "        new_number = number + 10000\n",
    "        \n",
    "        # 构建新的文件名\n",
    "        new_file_name = f\"case_{new_number}.txt\"\n",
    "        \n",
    "        # 重命名文件\n",
    "        os.rename(os.path.join(folder_path, file_name), os.path.join(folder_path, new_file_name))\n",
    "\n",
    "print(f\"{b}波段文件名修改完成！\")\n",
    "\n",
    "b = 'i'\n",
    "\n",
    "folder_path = f\"/home/lqy/CRCNN_and_CRNN/NN_color_disk_cr/train_disk_noCr_noNoise_noPsf/specimen/1/{b}/\"\n",
    "\n",
    "# 获取文件夹下所有文件的名称\n",
    "file_names = os.listdir(folder_path)\n",
    "\n",
    "# 遍历文件夹下的每个文件\n",
    "for file_name in file_names:\n",
    "    if file_name.endswith(\".txt\"):\n",
    "        # 解析文件名中的数字部分\n",
    "        parts = file_name.split('_')\n",
    "        number = int(parts[1].split('.')[0])\n",
    "        \n",
    "        # 对数字部分加上5000\n",
    "        new_number = number + 5000\n",
    "        \n",
    "        # 构建新的文件名\n",
    "        new_file_name = f\"case_{new_number}.txt\"\n",
    "        \n",
    "        # 重命名文件\n",
    "        os.rename(os.path.join(folder_path, file_name), os.path.join(folder_path, new_file_name))\n",
    "\n",
    "folder_path = f\"/home/lqy/CRCNN_and_CRNN/NN_color_disk_cr/train_disk_noCr_noNoise_noPsf/specimen/2/{b}/\"\n",
    "\n",
    "# 获取文件夹下所有文件的名称\n",
    "file_names = os.listdir(folder_path)\n",
    "\n",
    "# 遍历文件夹下的每个文件\n",
    "for file_name in file_names:\n",
    "    if file_name.endswith(\".txt\"):\n",
    "        # 解析文件名中的数字部分\n",
    "        parts = file_name.split('_')\n",
    "        number = int(parts[1].split('.')[0])\n",
    "        \n",
    "        # 对数字部分加上5000\n",
    "        new_number = number + 10000\n",
    "        \n",
    "        # 构建新的文件名\n",
    "        new_file_name = f\"case_{new_number}.txt\"\n",
    "        \n",
    "        # 重命名文件\n",
    "        os.rename(os.path.join(folder_path, file_name), os.path.join(folder_path, new_file_name))\n",
    "\n",
    "print(f\"{b}波段文件名修改完成！\")"
   ]
  },
  {
   "cell_type": "code",
   "execution_count": 6,
   "id": "66b1fd29",
   "metadata": {
    "ExecuteTime": {
     "end_time": "2024-06-23T13:08:01.223246Z",
     "start_time": "2024-06-23T13:08:01.083101Z"
    }
   },
   "outputs": [
    {
     "ename": "FileNotFoundError",
     "evalue": "[WinError 3] 系统找不到指定的路径。: '/home/lqy/CRCNN_and_CRNN/NN_color_disk_cr/train_augment_bplusd_1/specimen/1/i/'",
     "output_type": "error",
     "traceback": [
      "\u001b[1;31m---------------------------------------------------------------------------\u001b[0m",
      "\u001b[1;31mFileNotFoundError\u001b[0m                         Traceback (most recent call last)",
      "Cell \u001b[1;32mIn[6], line 6\u001b[0m\n\u001b[0;32m      3\u001b[0m folder_path \u001b[38;5;241m=\u001b[39m \u001b[38;5;124m\"\u001b[39m\u001b[38;5;124m/home/lqy/CRCNN_and_CRNN/NN_color_disk_cr/train_augment_bplusd_1/specimen/1/i/\u001b[39m\u001b[38;5;124m\"\u001b[39m\n\u001b[0;32m      5\u001b[0m \u001b[38;5;66;03m# 获取文件夹下所有文件的名称\u001b[39;00m\n\u001b[1;32m----> 6\u001b[0m file_names \u001b[38;5;241m=\u001b[39m \u001b[43mos\u001b[49m\u001b[38;5;241;43m.\u001b[39;49m\u001b[43mlistdir\u001b[49m\u001b[43m(\u001b[49m\u001b[43mfolder_path\u001b[49m\u001b[43m)\u001b[49m\n\u001b[0;32m      8\u001b[0m \u001b[38;5;66;03m# 遍历文件夹下的每个文件\u001b[39;00m\n\u001b[0;32m      9\u001b[0m \u001b[38;5;28;01mfor\u001b[39;00m file_name \u001b[38;5;129;01min\u001b[39;00m file_names:\n",
      "\u001b[1;31mFileNotFoundError\u001b[0m: [WinError 3] 系统找不到指定的路径。: '/home/lqy/CRCNN_and_CRNN/NN_color_disk_cr/train_augment_bplusd_1/specimen/1/i/'"
     ]
    }
   ],
   "source": [
    "import os\n",
    "\n",
    "folder_path = \"/home/lqy/CRCNN_and_CRNN/NN_color_disk_cr/train_augment_bplusd_1/specimen/1/i/\"\n",
    "\n",
    "# 获取文件夹下所有文件的名称\n",
    "file_names = os.listdir(folder_path)\n",
    "\n",
    "# 遍历文件夹下的每个文件\n",
    "for file_name in file_names:\n",
    "    if file_name.endswith(\".txt\"):\n",
    "        # 解析文件名中的数字部分\n",
    "        parts = file_name.split('_')\n",
    "        number = int(parts[1].split('.')[0])\n",
    "        \n",
    "        # 对数字部分加上5000\n",
    "        new_number = number + 5000\n",
    "        \n",
    "        # 构建新的文件名\n",
    "        new_file_name = f\"case_{new_number}.txt\"\n",
    "        \n",
    "        # 重命名文件\n",
    "        os.rename(os.path.join(folder_path, file_name), os.path.join(folder_path, new_file_name))\n",
    "\n",
    "print(\"文件名修改完成！\")\n"
   ]
  },
  {
   "cell_type": "markdown",
   "id": "436b6bb3",
   "metadata": {},
   "source": [
    "boundary"
   ]
  },
  {
   "cell_type": "code",
   "execution_count": 3,
   "id": "6a558c5b",
   "metadata": {
    "ExecuteTime": {
     "end_time": "2024-06-16T05:14:18.952942Z",
     "start_time": "2024-06-16T05:14:18.924976Z"
    }
   },
   "outputs": [
    {
     "name": "stdout",
     "output_type": "stream",
     "text": [
      "文件名修改完成！\n"
     ]
    }
   ],
   "source": [
    "import os\n",
    "\n",
    "folder_path = \"/home/lqy/CRCNN_and_CRNN/NN_color_disk_cr/validation_augment_bplusd_test/specimen/i/\"\n",
    "\n",
    "# 获取文件夹下所有文件的名称\n",
    "file_names = os.listdir(folder_path)\n",
    "\n",
    "# 遍历文件夹下的每个文件\n",
    "for file_name in file_names:\n",
    "    if file_name.endswith(\".txt\"):\n",
    "        # 解析文件名中的数字部分\n",
    "        parts = file_name.split('_')\n",
    "        number = int(parts[1].split('.')[0])\n",
    "        \n",
    "        # 对数字部分加上5000\n",
    "        new_number = number - 15000\n",
    "        \n",
    "        # 构建新的文件名\n",
    "        new_file_name = f\"case_{new_number}.txt\"\n",
    "        \n",
    "        # 重命名文件\n",
    "        os.rename(os.path.join(folder_path, file_name), os.path.join(folder_path, new_file_name))\n",
    "\n",
    "print(\"文件名修改完成！\")\n"
   ]
  },
  {
   "cell_type": "code",
   "execution_count": 16,
   "id": "08840c8d",
   "metadata": {
    "ExecuteTime": {
     "end_time": "2024-05-30T07:23:26.916224Z",
     "start_time": "2024-05-30T07:23:26.907789Z"
    }
   },
   "outputs": [
    {
     "name": "stdout",
     "output_type": "stream",
     "text": [
      "Galaxy Image Center (x, y): 16.0 16.0\n"
     ]
    }
   ],
   "source": [
    "import galsim\n",
    "\n",
    "# 定义图像参数\n",
    "image_size = 32  # 图像大小为 32x32\n",
    "pixel_scale = 0.074  # 像素大小为 0.074\n",
    "\n",
    "# 生成星系图像\n",
    "galaxy_image = galsim.ImageD(image_size, image_size, scale=pixel_scale)\n",
    "galaxy = galsim.Gaussian(flux=1.0, sigma=2.0)  # 高斯星系模型\n",
    "p = galaxy.drawImage(image=galaxy_image)\n",
    "\n",
    "# 计算图像中心\n",
    "center_x = image_size / 2.0\n",
    "center_y = image_size / 2.0\n",
    "\n",
    "# 打印中心坐标\n",
    "print(\"Galaxy Image Center (x, y):\", center_x, center_y)\n"
   ]
  },
  {
   "cell_type": "code",
   "execution_count": 17,
   "id": "17252d06",
   "metadata": {
    "ExecuteTime": {
     "end_time": "2024-05-30T07:23:27.569147Z",
     "start_time": "2024-05-30T07:23:27.406650Z"
    }
   },
   "outputs": [
    {
     "name": "stdout",
     "output_type": "stream",
     "text": [
      "total flux: 0.19904929747623068\n",
      "half total flux: 0.09952464873811534\n"
     ]
    },
    {
     "data": {
      "image/png": "[encoded data removed]",
      "text/plain": [
       "<Figure size 432x288 with 1 Axes>"
      ]
     },
     "metadata": {
      "needs_background": "light"
     },
     "output_type": "display_data"
    }
   ],
   "source": [
    "import numpy as np\n",
    "import matplotlib.pyplot as plt\n",
    "\n",
    "def calculate_flux_by_radius(image, center_x, center_y):\n",
    "    # 获取图像尺寸\n",
    "    height, width = image.shape\n",
    "    \n",
    "    # 以中心坐标为原点\n",
    "    center_x = int(center_x)\n",
    "    center_y = int(center_y)\n",
    "    \n",
    "    # 计算每个像素到中心的距离矩阵\n",
    "    y_indices, x_indices = np.indices((height, width))\n",
    "    distances = np.sqrt((x_indices - center_x)**2 + (y_indices - center_y)**2)\n",
    "    \n",
    "    # 初始化半径和流量列表\n",
    "    radii = []\n",
    "    fluxes = []\n",
    "    \n",
    "    # 遍历半径\n",
    "    for radius in range(1, max(center_x, center_y, width - center_x, height - center_y) + 1):\n",
    "        # 计算位于半径内的像素掩码\n",
    "        mask = distances <= radius\n",
    "        \n",
    "        # 计算总流量\n",
    "        total_flux = np.sum(image[mask])\n",
    "        \n",
    "        # 将当前半径和总流量添加到列表中\n",
    "        radii.append(radius)\n",
    "        fluxes.append(total_flux)\n",
    "    \n",
    "    return radii, fluxes\n",
    "\n",
    "def plot_flux_by_radius(radii, fluxes):\n",
    "    plt.plot(radii, fluxes, marker='o')\n",
    "    plt.xlabel('Radius')\n",
    "    plt.ylabel('Total Flux')\n",
    "    plt.title('Total Flux by Radius')\n",
    "    plt.grid(True)\n",
    "    plt.show()\n",
    "\n",
    "# 示例用法\n",
    "# image是保存了灰度星系图像的二维numpy数组\n",
    "image = p.array\n",
    "print(f'total flux: {np.sum(image)}')\n",
    "print(f'half total flux: {np.sum(image)/2}')\n",
    "# center_x和center_y是星系的中心坐标\n",
    "radii, fluxes = calculate_flux_by_radius(image, center_x, center_y)\n",
    "\n",
    "# 绘制图像\n",
    "plot_flux_by_radius(radii, fluxes)"
   ]
  },
  {
   "cell_type": "code",
   "execution_count": 18,
   "id": "8b87040a",
   "metadata": {
    "ExecuteTime": {
     "end_time": "2024-05-30T07:23:49.704347Z",
     "start_time": "2024-05-30T07:23:49.556005Z"
    }
   },
   "outputs": [
    {
     "data": {
      "image/png": "[encoded data removed]",
      "text/plain": [
       "<Figure size 432x288 with 1 Axes>"
      ]
     },
     "metadata": {
      "needs_background": "light"
     },
     "output_type": "display_data"
    }
   ],
   "source": [
    "import numpy as np\n",
    "import matplotlib.pyplot as plt\n",
    "\n",
    "# 假设你有一组半径和流量数据\n",
    "radii = radii\n",
    "fluxes = fluxes\n",
    "\n",
    "# 进行多项式拟合\n",
    "degree = 2  # 拟合的多项式阶数\n",
    "coefficients = np.polyfit(radii, fluxes, degree)\n",
    "\n",
    "# 使用拟合系数创建拟合的多项式函数\n",
    "poly_function = np.poly1d(coefficients)\n",
    "\n",
    "# 生成拟合后的数据点\n",
    "fit_radii = np.linspace(min(radii), max(radii), 100)\n",
    "fit_fluxes = poly_function(fit_radii)\n",
    "\n",
    "# 绘制原始数据和拟合曲线\n",
    "plt.scatter(radii, fluxes, label='Original Data')\n",
    "plt.plot(fit_radii, fit_fluxes, color='red', label='Fitted Curve')\n",
    "plt.xlabel('Radii')\n",
    "plt.ylabel('Fluxes')\n",
    "plt.title('Curve Fitting with Numpy')\n",
    "plt.legend()\n",
    "plt.grid(True)\n",
    "plt.show()\n"
   ]
  },
  {
   "cell_type": "code",
   "execution_count": 19,
   "id": "9775396a",
   "metadata": {
    "ExecuteTime": {
     "end_time": "2024-05-30T07:25:02.844846Z",
     "start_time": "2024-05-30T07:25:02.841047Z"
    }
   },
   "outputs": [
    {
     "name": "stdout",
     "output_type": "stream",
     "text": [
      "拟合曲线的系数为: [ 0.00058092  0.00084214 -0.00128014]\n"
     ]
    }
   ],
   "source": [
    "print('拟合曲线的系数为:', coefficients)\n"
   ]
  },
  {
   "cell_type": "code",
   "execution_count": 20,
   "id": "3bba4c6d",
   "metadata": {
    "ExecuteTime": {
     "end_time": "2024-05-30T07:31:01.230449Z",
     "start_time": "2024-05-30T07:31:01.227588Z"
    }
   },
   "outputs": [
    {
     "name": "stdout",
     "output_type": "stream",
     "text": [
      "二次方程的根为: [-13.91774883  12.46806466]\n"
     ]
    }
   ],
   "source": [
    "# 求解二次方程的根\n",
    "roots = np.roots([coefficients[0], coefficients[1], coefficients[2] - 0.09952464873811534])\n",
    "\n",
    "print(\"二次方程的根为:\", roots)\n"
   ]
  },
  {
   "cell_type": "code",
   "execution_count": 21,
   "id": "3c03546e",
   "metadata": {
    "ExecuteTime": {
     "end_time": "2024-05-30T07:38:26.522384Z",
     "start_time": "2024-05-30T07:38:26.357108Z"
    }
   },
   "outputs": [
    {
     "name": "stdout",
     "output_type": "stream",
     "text": [
      "total flux: 0.19904929747623068\n",
      "half total flux: 0.09952464873811534\n"
     ]
    },
    {
     "data": {
      "image/png": "[encoded data removed]",
      "text/plain": [
       "<Figure size 432x288 with 1 Axes>"
      ]
     },
     "metadata": {
      "needs_background": "light"
     },
     "output_type": "display_data"
    }
   ],
   "source": [
    "import numpy as np\n",
    "import matplotlib.pyplot as plt\n",
    "\n",
    "def calculate_flux_by_radius(image, center_x, center_y):\n",
    "    # 获取图像尺寸\n",
    "    height, width = image.shape\n",
    "    \n",
    "    # 以中心坐标为原点\n",
    "    center_x = int(center_x)\n",
    "    center_y = int(center_y)\n",
    "    \n",
    "    # 计算每个像素到中心的距离矩阵\n",
    "    y_indices, x_indices = np.indices((height, width))\n",
    "    distances = np.sqrt((x_indices - center_x)**2 + (y_indices - center_y)**2)\n",
    "    \n",
    "    # 初始化半径和流量列表\n",
    "    radii_list = [1, int(max(center_x, center_y, width - center_x, height - center_y)/2), int(max(center_x, center_y, width - center_x, height - center_y))]\n",
    "    radii = []\n",
    "    fluxes = []\n",
    "    \n",
    "    # 遍历半径\n",
    "    for radius in radii_list:\n",
    "        # 计算位于半径内的像素掩码\n",
    "        mask = distances <= radius\n",
    "        \n",
    "        # 计算总流量\n",
    "        total_flux = np.sum(image[mask])\n",
    "        \n",
    "        # 将当前半径和总流量添加到列表中\n",
    "        radii.append(radius)\n",
    "        fluxes.append(total_flux)\n",
    "    \n",
    "    return radii, fluxes\n",
    "\n",
    "def plot_flux_by_radius(radii, fluxes):\n",
    "    plt.plot(radii, fluxes, marker='o')\n",
    "    plt.xlabel('Radius')\n",
    "    plt.ylabel('Total Flux')\n",
    "    plt.title('Total Flux by Radius')\n",
    "    plt.grid(True)\n",
    "    plt.show()\n",
    "\n",
    "# 示例用法\n",
    "# image是保存了灰度星系图像的二维numpy数组\n",
    "image = p.array\n",
    "print(f'total flux: {np.sum(image)}')\n",
    "print(f'half total flux: {np.sum(image)/2}')\n",
    "# center_x和center_y是星系的中心坐标\n",
    "radii, fluxes = calculate_flux_by_radius(image, center_x, center_y)\n",
    "\n",
    "# 绘制图像\n",
    "plot_flux_by_radius(radii, fluxes)"
   ]
  },
  {
   "cell_type": "code",
   "execution_count": 22,
   "id": "339a87b8",
   "metadata": {
    "ExecuteTime": {
     "end_time": "2024-05-30T07:38:52.990305Z",
     "start_time": "2024-05-30T07:38:52.806241Z"
    }
   },
   "outputs": [
    {
     "data": {
      "image/png": "[encoded data removed]",
      "text/plain": [
       "<Figure size 432x288 with 1 Axes>"
      ]
     },
     "metadata": {
      "needs_background": "light"
     },
     "output_type": "display_data"
    }
   ],
   "source": [
    "import numpy as np\n",
    "import matplotlib.pyplot as plt\n",
    "\n",
    "# 假设你有一组半径和流量数据\n",
    "radii = radii\n",
    "fluxes = fluxes\n",
    "\n",
    "# 进行多项式拟合\n",
    "degree = 2  # 拟合的多项式阶数\n",
    "coefficients = np.polyfit(radii, fluxes, degree)\n",
    "\n",
    "# 使用拟合系数创建拟合的多项式函数\n",
    "poly_function = np.poly1d(coefficients)\n",
    "\n",
    "# 生成拟合后的数据点\n",
    "fit_radii = np.linspace(min(radii), max(radii), 100)\n",
    "fit_fluxes = poly_function(fit_radii)\n",
    "\n",
    "# 绘制原始数据和拟合曲线\n",
    "plt.scatter(radii, fluxes, label='Original Data')\n",
    "plt.plot(fit_radii, fit_fluxes, color='red', label='Fitted Curve')\n",
    "plt.xlabel('Radii')\n",
    "plt.ylabel('Fluxes')\n",
    "plt.title('Curve Fitting with Numpy')\n",
    "plt.legend()\n",
    "plt.grid(True)\n",
    "plt.show()\n"
   ]
  },
  {
   "cell_type": "code",
   "execution_count": 23,
   "id": "312b53ce",
   "metadata": {
    "ExecuteTime": {
     "end_time": "2024-05-30T07:39:10.814209Z",
     "start_time": "2024-05-30T07:39:10.808175Z"
    }
   },
   "outputs": [
    {
     "name": "stdout",
     "output_type": "stream",
     "text": [
      "二次方程的根为: [-13.54587849  12.5618201 ]\n"
     ]
    }
   ],
   "source": [
    "# 求解二次方程的根\n",
    "roots = np.roots([coefficients[0], coefficients[1], coefficients[2] - 0.09952464873811534])\n",
    "\n",
    "print(\"二次方程的根为:\", roots)\n"
   ]
  },
  {
   "cell_type": "code",
   "execution_count": 2,
   "id": "97e8e749",
   "metadata": {},
   "outputs": [
    {
     "data": {
      "text/plain": [
       "1875.0"
      ]
     },
     "execution_count": 2,
     "metadata": {},
     "output_type": "execute_result"
    }
   ],
   "source": [
    "3750/2"
   ]
  },
  {
   "cell_type": "code",
   "execution_count": null,
   "id": "78e124dc",
   "metadata": {},
   "outputs": [],
   "source": []
  }
 ],
 "metadata": {
  "kernelspec": {
   "display_name": "Python 3 (ipykernel)",
   "language": "python",
   "name": "python3"
  },
  "language_info": {
   "codemirror_mode": {
    "name": "ipython",
    "version": 3
   },
   "file_extension": ".py",
   "mimetype": "text/x-python",
   "name": "python",
   "nbconvert_exporter": "python",
   "pygments_lexer": "ipython3",
   "version": "3.11.9"
  }
 },
 "nbformat": 4,
 "nbformat_minor": 5
}
